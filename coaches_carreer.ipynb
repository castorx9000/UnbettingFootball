{
  "nbformat": 4,
  "nbformat_minor": 0,
  "metadata": {
    "colab": {
      "name": "coaches_carreer.ipynb",
      "provenance": [],
      "collapsed_sections": [],
      "mount_file_id": "1TZPWPh8HayjcUGasi51oGkUB289yWgUa",
      "authorship_tag": "ABX9TyNaFXTR/OExy20pwlaae34t",
      "include_colab_link": true
    },
    "kernelspec": {
      "name": "python3",
      "display_name": "Python 3"
    },
    "language_info": {
      "name": "python"
    }
  },
  "cells": [
    {
      "cell_type": "markdown",
      "metadata": {
        "id": "view-in-github",
        "colab_type": "text"
      },
      "source": [
        "<a href=\"https://colab.research.google.com/github/castorx9000/UnbettingFootball/blob/master/coaches_carreer.ipynb\" target=\"_parent\"><img src=\"https://colab.research.google.com/assets/colab-badge.svg\" alt=\"Open In Colab\"/></a>"
      ]
    },
    {
      "cell_type": "code",
      "execution_count": 1,
      "metadata": {
        "colab": {
          "resources": {
            "http://localhost:8080/nbextensions/google.colab/files.js": {
              "data": "Ly8gQ29weXJpZ2h0IDIwMTcgR29vZ2xlIExMQwovLwovLyBMaWNlbnNlZCB1bmRlciB0aGUgQXBhY2hlIExpY2Vuc2UsIFZlcnNpb24gMi4wICh0aGUgIkxpY2Vuc2UiKTsKLy8geW91IG1heSBub3QgdXNlIHRoaXMgZmlsZSBleGNlcHQgaW4gY29tcGxpYW5jZSB3aXRoIHRoZSBMaWNlbnNlLgovLyBZb3UgbWF5IG9idGFpbiBhIGNvcHkgb2YgdGhlIExpY2Vuc2UgYXQKLy8KLy8gICAgICBodHRwOi8vd3d3LmFwYWNoZS5vcmcvbGljZW5zZXMvTElDRU5TRS0yLjAKLy8KLy8gVW5sZXNzIHJlcXVpcmVkIGJ5IGFwcGxpY2FibGUgbGF3IG9yIGFncmVlZCB0byBpbiB3cml0aW5nLCBzb2Z0d2FyZQovLyBkaXN0cmlidXRlZCB1bmRlciB0aGUgTGljZW5zZSBpcyBkaXN0cmlidXRlZCBvbiBhbiAiQVMgSVMiIEJBU0lTLAovLyBXSVRIT1VUIFdBUlJBTlRJRVMgT1IgQ09ORElUSU9OUyBPRiBBTlkgS0lORCwgZWl0aGVyIGV4cHJlc3Mgb3IgaW1wbGllZC4KLy8gU2VlIHRoZSBMaWNlbnNlIGZvciB0aGUgc3BlY2lmaWMgbGFuZ3VhZ2UgZ292ZXJuaW5nIHBlcm1pc3Npb25zIGFuZAovLyBsaW1pdGF0aW9ucyB1bmRlciB0aGUgTGljZW5zZS4KCi8qKgogKiBAZmlsZW92ZXJ2aWV3IEhlbHBlcnMgZm9yIGdvb2dsZS5jb2xhYiBQeXRob24gbW9kdWxlLgogKi8KKGZ1bmN0aW9uKHNjb3BlKSB7CmZ1bmN0aW9uIHNwYW4odGV4dCwgc3R5bGVBdHRyaWJ1dGVzID0ge30pIHsKICBjb25zdCBlbGVtZW50ID0gZG9jdW1lbnQuY3JlYXRlRWxlbWVudCgnc3BhbicpOwogIGVsZW1lbnQudGV4dENvbnRlbnQgPSB0ZXh0OwogIGZvciAoY29uc3Qga2V5IG9mIE9iamVjdC5rZXlzKHN0eWxlQXR0cmlidXRlcykpIHsKICAgIGVsZW1lbnQuc3R5bGVba2V5XSA9IHN0eWxlQXR0cmlidXRlc1trZXldOwogIH0KICByZXR1cm4gZWxlbWVudDsKfQoKLy8gTWF4IG51bWJlciBvZiBieXRlcyB3aGljaCB3aWxsIGJlIHVwbG9hZGVkIGF0IGEgdGltZS4KY29uc3QgTUFYX1BBWUxPQURfU0laRSA9IDEwMCAqIDEwMjQ7CgpmdW5jdGlvbiBfdXBsb2FkRmlsZXMoaW5wdXRJZCwgb3V0cHV0SWQpIHsKICBjb25zdCBzdGVwcyA9IHVwbG9hZEZpbGVzU3RlcChpbnB1dElkLCBvdXRwdXRJZCk7CiAgY29uc3Qgb3V0cHV0RWxlbWVudCA9IGRvY3VtZW50LmdldEVsZW1lbnRCeUlkKG91dHB1dElkKTsKICAvLyBDYWNoZSBzdGVwcyBvbiB0aGUgb3V0cHV0RWxlbWVudCB0byBtYWtlIGl0IGF2YWlsYWJsZSBmb3IgdGhlIG5leHQgY2FsbAogIC8vIHRvIHVwbG9hZEZpbGVzQ29udGludWUgZnJvbSBQeXRob24uCiAgb3V0cHV0RWxlbWVudC5zdGVwcyA9IHN0ZXBzOwoKICByZXR1cm4gX3VwbG9hZEZpbGVzQ29udGludWUob3V0cHV0SWQpOwp9CgovLyBUaGlzIGlzIHJvdWdobHkgYW4gYXN5bmMgZ2VuZXJhdG9yIChub3Qgc3VwcG9ydGVkIGluIHRoZSBicm93c2VyIHlldCksCi8vIHdoZXJlIHRoZXJlIGFyZSBtdWx0aXBsZSBhc3luY2hyb25vdXMgc3RlcHMgYW5kIHRoZSBQeXRob24gc2lkZSBpcyBnb2luZwovLyB0byBwb2xsIGZvciBjb21wbGV0aW9uIG9mIGVhY2ggc3RlcC4KLy8gVGhpcyB1c2VzIGEgUHJvbWlzZSB0byBibG9jayB0aGUgcHl0aG9uIHNpZGUgb24gY29tcGxldGlvbiBvZiBlYWNoIHN0ZXAsCi8vIHRoZW4gcGFzc2VzIHRoZSByZXN1bHQgb2YgdGhlIHByZXZpb3VzIHN0ZXAgYXMgdGhlIGlucHV0IHRvIHRoZSBuZXh0IHN0ZXAuCmZ1bmN0aW9uIF91cGxvYWRGaWxlc0NvbnRpbnVlKG91dHB1dElkKSB7CiAgY29uc3Qgb3V0cHV0RWxlbWVudCA9IGRvY3VtZW50LmdldEVsZW1lbnRCeUlkKG91dHB1dElkKTsKICBjb25zdCBzdGVwcyA9IG91dHB1dEVsZW1lbnQuc3RlcHM7CgogIGNvbnN0IG5leHQgPSBzdGVwcy5uZXh0KG91dHB1dEVsZW1lbnQubGFzdFByb21pc2VWYWx1ZSk7CiAgcmV0dXJuIFByb21pc2UucmVzb2x2ZShuZXh0LnZhbHVlLnByb21pc2UpLnRoZW4oKHZhbHVlKSA9PiB7CiAgICAvLyBDYWNoZSB0aGUgbGFzdCBwcm9taXNlIHZhbHVlIHRvIG1ha2UgaXQgYXZhaWxhYmxlIHRvIHRoZSBuZXh0CiAgICAvLyBzdGVwIG9mIHRoZSBnZW5lcmF0b3IuCiAgICBvdXRwdXRFbGVtZW50Lmxhc3RQcm9taXNlVmFsdWUgPSB2YWx1ZTsKICAgIHJldHVybiBuZXh0LnZhbHVlLnJlc3BvbnNlOwogIH0pOwp9CgovKioKICogR2VuZXJhdG9yIGZ1bmN0aW9uIHdoaWNoIGlzIGNhbGxlZCBiZXR3ZWVuIGVhY2ggYXN5bmMgc3RlcCBvZiB0aGUgdXBsb2FkCiAqIHByb2Nlc3MuCiAqIEBwYXJhbSB7c3RyaW5nfSBpbnB1dElkIEVsZW1lbnQgSUQgb2YgdGhlIGlucHV0IGZpbGUgcGlja2VyIGVsZW1lbnQuCiAqIEBwYXJhbSB7c3RyaW5nfSBvdXRwdXRJZCBFbGVtZW50IElEIG9mIHRoZSBvdXRwdXQgZGlzcGxheS4KICogQHJldHVybiB7IUl0ZXJhYmxlPCFPYmplY3Q+fSBJdGVyYWJsZSBvZiBuZXh0IHN0ZXBzLgogKi8KZnVuY3Rpb24qIHVwbG9hZEZpbGVzU3RlcChpbnB1dElkLCBvdXRwdXRJZCkgewogIGNvbnN0IGlucHV0RWxlbWVudCA9IGRvY3VtZW50LmdldEVsZW1lbnRCeUlkKGlucHV0SWQpOwogIGlucHV0RWxlbWVudC5kaXNhYmxlZCA9IGZhbHNlOwoKICBjb25zdCBvdXRwdXRFbGVtZW50ID0gZG9jdW1lbnQuZ2V0RWxlbWVudEJ5SWQob3V0cHV0SWQpOwogIG91dHB1dEVsZW1lbnQuaW5uZXJIVE1MID0gJyc7CgogIGNvbnN0IHBpY2tlZFByb21pc2UgPSBuZXcgUHJvbWlzZSgocmVzb2x2ZSkgPT4gewogICAgaW5wdXRFbGVtZW50LmFkZEV2ZW50TGlzdGVuZXIoJ2NoYW5nZScsIChlKSA9PiB7CiAgICAgIHJlc29sdmUoZS50YXJnZXQuZmlsZXMpOwogICAgfSk7CiAgfSk7CgogIGNvbnN0IGNhbmNlbCA9IGRvY3VtZW50LmNyZWF0ZUVsZW1lbnQoJ2J1dHRvbicpOwogIGlucHV0RWxlbWVudC5wYXJlbnRFbGVtZW50LmFwcGVuZENoaWxkKGNhbmNlbCk7CiAgY2FuY2VsLnRleHRDb250ZW50ID0gJ0NhbmNlbCB1cGxvYWQnOwogIGNvbnN0IGNhbmNlbFByb21pc2UgPSBuZXcgUHJvbWlzZSgocmVzb2x2ZSkgPT4gewogICAgY2FuY2VsLm9uY2xpY2sgPSAoKSA9PiB7CiAgICAgIHJlc29sdmUobnVsbCk7CiAgICB9OwogIH0pOwoKICAvLyBXYWl0IGZvciB0aGUgdXNlciB0byBwaWNrIHRoZSBmaWxlcy4KICBjb25zdCBmaWxlcyA9IHlpZWxkIHsKICAgIHByb21pc2U6IFByb21pc2UucmFjZShbcGlja2VkUHJvbWlzZSwgY2FuY2VsUHJvbWlzZV0pLAogICAgcmVzcG9uc2U6IHsKICAgICAgYWN0aW9uOiAnc3RhcnRpbmcnLAogICAgfQogIH07CgogIGNhbmNlbC5yZW1vdmUoKTsKCiAgLy8gRGlzYWJsZSB0aGUgaW5wdXQgZWxlbWVudCBzaW5jZSBmdXJ0aGVyIHBpY2tzIGFyZSBub3QgYWxsb3dlZC4KICBpbnB1dEVsZW1lbnQuZGlzYWJsZWQgPSB0cnVlOwoKICBpZiAoIWZpbGVzKSB7CiAgICByZXR1cm4gewogICAgICByZXNwb25zZTogewogICAgICAgIGFjdGlvbjogJ2NvbXBsZXRlJywKICAgICAgfQogICAgfTsKICB9CgogIGZvciAoY29uc3QgZmlsZSBvZiBmaWxlcykgewogICAgY29uc3QgbGkgPSBkb2N1bWVudC5jcmVhdGVFbGVtZW50KCdsaScpOwogICAgbGkuYXBwZW5kKHNwYW4oZmlsZS5uYW1lLCB7Zm9udFdlaWdodDogJ2JvbGQnfSkpOwogICAgbGkuYXBwZW5kKHNwYW4oCiAgICAgICAgYCgke2ZpbGUudHlwZSB8fCAnbi9hJ30pIC0gJHtmaWxlLnNpemV9IGJ5dGVzLCBgICsKICAgICAgICBgbGFzdCBtb2RpZmllZDogJHsKICAgICAgICAgICAgZmlsZS5sYXN0TW9kaWZpZWREYXRlID8gZmlsZS5sYXN0TW9kaWZpZWREYXRlLnRvTG9jYWxlRGF0ZVN0cmluZygpIDoKICAgICAgICAgICAgICAgICAgICAgICAgICAgICAgICAgICAgJ24vYSd9IC0gYCkpOwogICAgY29uc3QgcGVyY2VudCA9IHNwYW4oJzAlIGRvbmUnKTsKICAgIGxpLmFwcGVuZENoaWxkKHBlcmNlbnQpOwoKICAgIG91dHB1dEVsZW1lbnQuYXBwZW5kQ2hpbGQobGkpOwoKICAgIGNvbnN0IGZpbGVEYXRhUHJvbWlzZSA9IG5ldyBQcm9taXNlKChyZXNvbHZlKSA9PiB7CiAgICAgIGNvbnN0IHJlYWRlciA9IG5ldyBGaWxlUmVhZGVyKCk7CiAgICAgIHJlYWRlci5vbmxvYWQgPSAoZSkgPT4gewogICAgICAgIHJlc29sdmUoZS50YXJnZXQucmVzdWx0KTsKICAgICAgfTsKICAgICAgcmVhZGVyLnJlYWRBc0FycmF5QnVmZmVyKGZpbGUpOwogICAgfSk7CiAgICAvLyBXYWl0IGZvciB0aGUgZGF0YSB0byBiZSByZWFkeS4KICAgIGxldCBmaWxlRGF0YSA9IHlpZWxkIHsKICAgICAgcHJvbWlzZTogZmlsZURhdGFQcm9taXNlLAogICAgICByZXNwb25zZTogewogICAgICAgIGFjdGlvbjogJ2NvbnRpbnVlJywKICAgICAgfQogICAgfTsKCiAgICAvLyBVc2UgYSBjaHVua2VkIHNlbmRpbmcgdG8gYXZvaWQgbWVzc2FnZSBzaXplIGxpbWl0cy4gU2VlIGIvNjIxMTU2NjAuCiAgICBsZXQgcG9zaXRpb24gPSAwOwogICAgZG8gewogICAgICBjb25zdCBsZW5ndGggPSBNYXRoLm1pbihmaWxlRGF0YS5ieXRlTGVuZ3RoIC0gcG9zaXRpb24sIE1BWF9QQVlMT0FEX1NJWkUpOwogICAgICBjb25zdCBjaHVuayA9IG5ldyBVaW50OEFycmF5KGZpbGVEYXRhLCBwb3NpdGlvbiwgbGVuZ3RoKTsKICAgICAgcG9zaXRpb24gKz0gbGVuZ3RoOwoKICAgICAgY29uc3QgYmFzZTY0ID0gYnRvYShTdHJpbmcuZnJvbUNoYXJDb2RlLmFwcGx5KG51bGwsIGNodW5rKSk7CiAgICAgIHlpZWxkIHsKICAgICAgICByZXNwb25zZTogewogICAgICAgICAgYWN0aW9uOiAnYXBwZW5kJywKICAgICAgICAgIGZpbGU6IGZpbGUubmFtZSwKICAgICAgICAgIGRhdGE6IGJhc2U2NCwKICAgICAgICB9LAogICAgICB9OwoKICAgICAgbGV0IHBlcmNlbnREb25lID0gZmlsZURhdGEuYnl0ZUxlbmd0aCA9PT0gMCA/CiAgICAgICAgICAxMDAgOgogICAgICAgICAgTWF0aC5yb3VuZCgocG9zaXRpb24gLyBmaWxlRGF0YS5ieXRlTGVuZ3RoKSAqIDEwMCk7CiAgICAgIHBlcmNlbnQudGV4dENvbnRlbnQgPSBgJHtwZXJjZW50RG9uZX0lIGRvbmVgOwoKICAgIH0gd2hpbGUgKHBvc2l0aW9uIDwgZmlsZURhdGEuYnl0ZUxlbmd0aCk7CiAgfQoKICAvLyBBbGwgZG9uZS4KICB5aWVsZCB7CiAgICByZXNwb25zZTogewogICAgICBhY3Rpb246ICdjb21wbGV0ZScsCiAgICB9CiAgfTsKfQoKc2NvcGUuZ29vZ2xlID0gc2NvcGUuZ29vZ2xlIHx8IHt9OwpzY29wZS5nb29nbGUuY29sYWIgPSBzY29wZS5nb29nbGUuY29sYWIgfHwge307CnNjb3BlLmdvb2dsZS5jb2xhYi5fZmlsZXMgPSB7CiAgX3VwbG9hZEZpbGVzLAogIF91cGxvYWRGaWxlc0NvbnRpbnVlLAp9Owp9KShzZWxmKTsK",
              "ok": true,
              "headers": [
                [
                  "content-type",
                  "application/javascript"
                ]
              ],
              "status": 200,
              "status_text": ""
            }
          },
          "base_uri": "https://localhost:8080/",
          "height": 73
        },
        "id": "V7qQMEOt4kU4",
        "outputId": "6c7dd06d-5187-4d1a-b3cb-d438ef956830"
      },
      "outputs": [
        {
          "output_type": "display_data",
          "data": {
            "text/plain": [
              "<IPython.core.display.HTML object>"
            ],
            "text/html": [
              "\n",
              "     <input type=\"file\" id=\"files-0e8490d9-befc-4b44-9a52-99b3053cb647\" name=\"files[]\" multiple disabled\n",
              "        style=\"border:none\" />\n",
              "     <output id=\"result-0e8490d9-befc-4b44-9a52-99b3053cb647\">\n",
              "      Upload widget is only available when the cell has been executed in the\n",
              "      current browser session. Please rerun this cell to enable.\n",
              "      </output>\n",
              "      <script src=\"/nbextensions/google.colab/files.js\"></script> "
            ]
          },
          "metadata": {}
        },
        {
          "output_type": "stream",
          "name": "stdout",
          "text": [
            "Saving df_Leagues.xlsx to df_Leagues.xlsx\n"
          ]
        }
      ],
      "source": [
        "import pandas as pd\n",
        "import numpy as np\n",
        "import datetime as datetime\n",
        "from google.colab import files\n",
        "\n",
        "uploaded = files.upload()"
      ]
    },
    {
      "cell_type": "code",
      "source": [
        "def find_matches(league, team, start, end, league_matches):\n",
        "  \n",
        "  df_matches = pd.DataFrame()\n",
        "  df_matches = league_matches.loc[league_matches['Div'] == league].copy()\n",
        "  df_matches['Date'] = pd.to_datetime(df_matches['Date'])\n",
        "  df_matches = df_matches.sort_values(by=['Date'])\n",
        "  df_matches = df_matches.loc[(df_matches['Date'] > start) & (df_matches['Date'] < end)]\n",
        "  df_matches = df_matches.loc[(df_matches['HomeTeam'] == team) | (df_matches['AwayTeam'] == team)]\n",
        "  \n",
        "  return df_matches"
      ],
      "metadata": {
        "id": "-xNraTp085f0"
      },
      "execution_count": 2,
      "outputs": []
    },
    {
      "cell_type": "code",
      "source": [
        "  def coaches_carreers(coaches_list, league_matches):\n",
        "\n",
        "    columns_names = list(league_matches.columns)\n",
        "\n",
        "    for coach in coaches_list:\n",
        "      \n",
        "      df_results = pd.DataFrame(columns=columns_names)\n",
        "      \n",
        "      coach_name = coach[0]\n",
        "\n",
        "      for coaching_job in coach[1]:\n",
        "        league = coaching_job[0]\n",
        "        team = coaching_job[1]\n",
        "        start = coaching_job[2]\n",
        "        end = coaching_job[3]\n",
        "        print(coach_name, league, team, start, end)\n",
        "        df_results = df_results.append( find_matches(league, team, start, end, league_matches) )\n",
        "      \n",
        "      df_results.to_excel(f'{coach_name}.xlsx', index=False, sheet_name=coach_name)    \n",
        "    \n",
        "    return df_results"
      ],
      "metadata": {
        "id": "Iu46-JqvaEz1"
      },
      "execution_count": 3,
      "outputs": []
    },
    {
      "cell_type": "code",
      "source": [
        "if __name__ == '__main__':\n",
        "\n",
        "  league_matches = pd.read_excel('df_Leagues.xlsx')\n",
        "  results = pd.DataFrame()"
      ],
      "metadata": {
        "id": "3nraYZRj6_bO"
      },
      "execution_count": 4,
      "outputs": []
    },
    {
      "cell_type": "markdown",
      "source": [
        "# Coaches list has the next structure \n",
        "**Every element represents the coach's carreer in terms of clubs managed. Each element:**\n",
        "1.   Coach's name\n",
        "2.   Coach's clubs managed (former to ladder).\n",
        "\n",
        "**Each club managed has the next structure:**\n",
        "1.   League/Division\n",
        "2.   Club's name\n",
        "3.   Starting date of managerial period\n",
        "4.   Ending date of managerial period\n"
      ],
      "metadata": {
        "id": "tYY6P6sBeIhg"
      }
    },
    {
      "cell_type": "code",
      "source": [
        "coaches_01 = [\n",
        "       ['Mikel Arteta', [\n",
        "                         ['E0','Arsenal','2019-12-22','2021-06-30']\n",
        "                         ] \n",
        "        ],\n",
        "       ['Steven Gerrard', [\n",
        "                           ['SC0','Rangers','2018-06-01','2021-06-30']\n",
        "                           ] \n",
        "        ],\n",
        "       ['Thomas Frank', [\n",
        "                         ['E1','Brentford','2018-10-19','2021-06-30']\n",
        "                         ] \n",
        "        ],\n",
        "       ['Graham Potter', [\n",
        "                          ['E1','Swansea','2018-06-18','2021-06-30']\n",
        "                          ] \n",
        "        ],\n",
        "       ['Sean Dyche', [\n",
        "                       ['E1','Watford','2011-06-21','2012-07-06'],\n",
        "                       ['E1','Burnley','2012-01-10','2014-06-30'],\n",
        "                       ['E0','Burnley','2014-01-07','2015-06-30'],\n",
        "                       ['E1','Burnley','2015-07-01','2016-06-30'],\n",
        "                       ['E0','Burnley','2016-07-01','2021-06-30']\n",
        "                       ]\n",
        "        ],\n",
        "       ['Thomas Tuchel', [\n",
        "                          ['D1','Mainz','2009-08-01','2014-05-11'], \n",
        "                          ['D1','Dortmund','2015-06-29','2017-05-30'], \n",
        "                          ['F1','Paris SG','2018-05-18','2020-12-24'], \n",
        "                          ['E0','Chelsea','2021-01-26','2021-05-30']\n",
        "                          ] \n",
        "        ]\n",
        "]"
      ],
      "metadata": {
        "id": "_Qif-qUo9jvJ"
      },
      "execution_count": 5,
      "outputs": []
    },
    {
      "cell_type": "code",
      "source": [
        "results = coaches_carreers(coaches_01, league_matches)"
      ],
      "metadata": {
        "colab": {
          "base_uri": "https://localhost:8080/"
        },
        "id": "ep8CrwFX9lGU",
        "outputId": "ccef33be-ca2e-45d8-b143-2eb4796a980e"
      },
      "execution_count": 6,
      "outputs": [
        {
          "output_type": "stream",
          "name": "stdout",
          "text": [
            "Mikel Arteta E0 Arsenal 2019-12-22 2021-06-30\n",
            "Steven Gerrard SC0 Rangers 2018-06-01 2021-06-30\n",
            "Thomas Frank E1 Brentford 2018-10-19 2021-06-30\n",
            "Graham Potter E1 Swansea 2018-06-18 2021-06-30\n",
            "Sean Dyche E1 Watford 2011-06-21 2012-07-06\n",
            "Sean Dyche E1 Burnley 2012-01-10 2014-06-30\n",
            "Sean Dyche E0 Burnley 2014-01-07 2015-06-30\n",
            "Sean Dyche E1 Burnley 2015-07-01 2016-06-30\n",
            "Sean Dyche E0 Burnley 2016-07-01 2021-06-30\n",
            "Thomas Tuchel D1 Mainz 2009-08-01 2014-05-11\n",
            "Thomas Tuchel D1 Dortmund 2015-06-29 2017-05-30\n",
            "Thomas Tuchel F1 Paris SG 2018-05-18 2020-12-24\n",
            "Thomas Tuchel E0 Chelsea 2021-01-26 2021-05-30\n"
          ]
        }
      ]
    },
    {
      "cell_type": "code",
      "source": [
        "coaches_02 = [\n",
        "       ['Patrick Vieira',[\n",
        "                          ['F1','Nice','11-6-2018','4-12-2020'],\n",
        "                          ['E0','Crystal Palace','4-7-2021','30-6-2021']\n",
        "                          ]\n",
        "        ],\n",
        "       ['Frank Lampard',[\n",
        "                         ['E1','Derby County','31-5-2018','4-7-2019'],\n",
        "                         ['E0','Chelsea','4-7-2019','25-1-2021'] \n",
        "                         ]\n",
        "        ],\n",
        "       ['Rafael Benitez',[\n",
        "                          ['E0','Liverpool','16-6-2004','3-6-2010'],\n",
        "                          ['I1','Inter','10-6-2010','23-12-2010'],\n",
        "                          ['E0','Chelsea','21-11-2012','27-5-2013'],\n",
        "                          ['I1','Napoli','27-5-2013','3-6-2015'],\n",
        "                          ['SP1','Real Madrid','3-6-2015','4-1-2016'],\n",
        "                          ['E0','Newcastle','11-3-2016','30-6-2019']\n",
        "                          ] \n",
        "        ],\n",
        "       ['Marcelo Bielsa',[\n",
        "                          ['SP1','Ath Bilbao','7-7-2011','30-6-2013'],\n",
        "                          ['F1','Marseille','17-5-2014','8-8-2015'],\n",
        "                          ['F1','Lille','24-5-2017','15-12-2017'],\n",
        "                          ['E1','Leeds','15-6-2018','17-7-2020'],\n",
        "                          ['E0','Leeds','17-7-2020','30-6-2021']\n",
        "                          ] \n",
        "        ],\n",
        "       ['Brendan Rodgers',[\n",
        "                           ['E0','Watford','24-11-2008','5-6-2009'],\n",
        "                           ['E0','Reading','5-6-2009','16-12-2009'],\n",
        "                           ['E1','Swansea','16-7-2010','30-6-2011'],\n",
        "                           ['E0','Swansea','1-7-2011','30-5-2012'],\n",
        "                           ['E0','Liverpool','1-6-2012','4-10-2015'],\n",
        "                           ['SC0','Celtic','20-5-2016','15-2-2019'],\n",
        "                           ['E0','Leicester','3-3-2019','30-6-2021']\n",
        "                           ]\n",
        "        ],\n",
        "       ['Jurgen Klopp',[\n",
        "                        ['D2','Mainz','27-2-2001','30-6-2004'],\n",
        "                        ['D1','Mainz','30-6-2004','30-6-2007'],\n",
        "                        ['D2','Mainz','30-6-2007','30-6-2008'],\n",
        "                        ['D1','Dortmund','30-6-2008','30-6-2015'],\n",
        "                        ['E0','Liverpool','17-10-2015','30-6-2021']\n",
        "                        ] \n",
        "        ],\n",
        "       ['Josep Guardiola',[\n",
        "                           ['SP1','Barcelona','1-7-2008','30-6-2012'],\n",
        "                           ['D1','Bayern Munich','26-6-2013','30-6-2016'],\n",
        "                           ['E0','Man City','1-7-2016','30-6-2021']\n",
        "                           ] \n",
        "        ],\n",
        "        ['Ralf Rangnick',[\n",
        "                          ['D2','Hannover','23-5-2001','30-6-2002'],\n",
        "                          ['D1','Hannover','1-7-2002','6-3-2004'],\n",
        "                          ['D1','Schalke 04','28-7-2004','12-12-2005'],\n",
        "                          ['D1','Hoffenheim','1-7-2006','2-1-2011'],\n",
        "                          ['D1','Schalke 04','1-4-2011','22-9-2011'],\n",
        "                          ['D2','RB Leipzig','25-7-2015','16-5-2016'],\n",
        "                          ['D1','RB Leipzig','9-7-2018','30-6-2019']\n",
        "                          ]\n",
        "         ],\n",
        "         ['Ole Gunnar Solksjaer',[\n",
        "                                  ['E0','Cardiff','2-1-2014','30-6-2014'],\n",
        "                                  ['E1','Cardiff','1-7-2014','18-9-2014'],\n",
        "                                  ['E0','Man United','19-12-2018','30-6-2021']\n",
        "                                  ]\n",
        "          ],\n",
        "          ['Eddie Howe',[\n",
        "                         ['E3','Bournemouth','31-12-2008','30-6-2010'],\n",
        "                         ['E2','Bournemouth','1-7-2010','15-1-2011'],\n",
        "                         ['E1','Burnley','16-1-2011','15-10-2012'],\n",
        "                         ['E2','Bournemouth','16-10-2012','30-6-2013'],\n",
        "                         ['E1','Bournemouth','1-7-2013','30-6-2015'],\n",
        "                         ['E0','Bournemouth','1-7-2015','30-6-2020']\n",
        "                         ]\n",
        "           ],\n",
        "           ['Steve Bruce',[\n",
        "                           ['E2','Wigan','4-4-2001','29-5-2001'],\n",
        "                           ['E1','Crystal Palace','31-5-2001','2-11-2001'],\n",
        "                           ['E1','Birmingham','12-12-2001','30-6-2002'],\n",
        "                           ['E0','Birmingham','1-7-2002','30-6-2006'],\n",
        "                           ['E1','Birmingham','1-7-2006','23-11-2007'],\n",
        "                           ['E0','Wigan','26-11-2007','3-6-2009'],\n",
        "                           ['E0','Sunderland','3-6-2009','30-11-2011'],\n",
        "                           ['E1','Hull','8-6-2012','30-6-2013'],\n",
        "                           ['E0','Hull','1-7-2013','30-6-2015'],\n",
        "                           ['E1','Hull','1-7-2015','22-7-2016'],\n",
        "                           ['E1','Aston Villa','12-10-2016','3-10-2018'],\n",
        "                           ['E1','Sheffield Weds','1-2-2019','15-7-2019'],\n",
        "                           ['E0','Newcastle','17-7-2019','30-6-2021']\n",
        "                           ]\n",
        "            ],\n",
        "            ['Nuno Espirito Santo',[\n",
        "                                    ['P1','Rio Ave','15-5-2012','19-5-2014'],\n",
        "                                    ['SP1','Valencia','4-7-2014','29-11-2015'],\n",
        "                                    ['P1','Porto','1-6-2016','22-5-2016'],\n",
        "                                    ['E1','Wolves','31-5-2017','30-6-2018'],\n",
        "                                    ['E0','Wolves','1-7-2018','23-5-2021']\n",
        "                                    ]\n",
        "             ],\n",
        "            ['Dean Smith',[\n",
        "                           ['E2','Walsall','4-1-2011','29-11-2015'],\n",
        "                           ['E1','Brentford','30-11-2015','30-6-2018'],\n",
        "                           ['E1','Aston Villa','10-10-2018','30-6-2019'],\n",
        "                           ['E0','Aston Villa','1-6-2020','30-6-2021']\n",
        "                           ]\n",
        "             ],\n",
        "            ['Daniel Farke',[\n",
        "                             ['E1','Norwich','25-5-2017','30-6-2019'],\n",
        "                             ['E0','Norwich','1-6-2019','30-6-2021']\n",
        "                             ]\n",
        "             ],\n",
        "            ['Ralph Hasenhuttl',[\n",
        "                                 ['D2','Aalen','1-6-2012','30-6-2013'],\n",
        "                                 ['D2','Ingolstadt','15-10-2013','30-6-2014'],\n",
        "                                 ['D1','Ingolstadt','1-6-2015','14-5-2016'],\n",
        "                                 ['D1','RB Leipzig','15-5-2016','15-5-2018'],\n",
        "                                 ['E0','Southampton','5-12-2018','30-6-2021']\n",
        "                                 ]\n",
        "             ],\n",
        "            ['Antonio Conte',[\n",
        "                              ['I2','Arezzo','15-7-2006','31-10-2006'],\n",
        "                              ['I2','Arezzo','13-3-2007','30-6-2007'],\n",
        "                              ['I2','Bari','27-12-2007','30-6-2009'],\n",
        "                              ['I1','Atalanta','21-9-2009','6-1-2010'],\n",
        "                              ['I2','Siena','9-5-2010','30-6-2011'],\n",
        "                              ['I1','Juventus','22-5-2011','15-7-2014'],\n",
        "                              ['E0','Chelsea','4-4-2016','13-7-2018'],\n",
        "                              ['I1','Inter','31-5-2019','26-5-2021']\n",
        "                              ]\n",
        "             ],\n",
        "            ['Roy Hodson',[\n",
        "                           ['E0','Fulham','28-12-2007','30-6-2010'],\n",
        "                           ['E0','Liverpool','1-7-2010','8-1-2011'],\n",
        "                           ['E0','West Brom','11-2-2011','29-4-2012'],\n",
        "                           ['E0','Crystal Palace','12-9-2017','30-6-2021']\n",
        "                           ]\n",
        "             ],\n",
        "            ['Claudio Ranieri',[\n",
        "                                ['E0','Chelsea','18-9-2000','30-5-2004'],\n",
        "                                ['SP1','Valencia','8-6-2004','25-2-2005'],\n",
        "                                ['I1','Parma','12-2-2007','31-5-2007'],\n",
        "                                ['I1','Juventus','4-7-2007','18-5-2009'],\n",
        "                                ['I1','Roma','1-9-2009','20-2-2011'],\n",
        "                                ['I1','Inter','22-9-2011','26-3-2012'],\n",
        "                                ['F2','Monaco','30-5-2012','30-6-2013'],\n",
        "                                ['F1','Monaco','30-6-2013','20-5-2014'],\n",
        "                                ['E0','Leicester','13-7-2015','23-2-2017'],\n",
        "                                ['E0','Fulham','14-11-2018','28-2-2019'],\n",
        "                                ['I1','Roma','8-3-2019','26-5-2019'],\n",
        "                                ['I1','Sampdoria','12-10-2019','30-6-2020']\n",
        "                                ]\n",
        "             ],\n",
        "            ['David Moyes',[\n",
        "                            ['E1','Preston','1-1-2000','15-3-2002'],\n",
        "                            ['E0','Everton','14-3-2002','30-6-2013'],\n",
        "                            ['E0','Man United','1-7-2013','20-4-2014'],\n",
        "                            ['SP1','Sociedad','10-11-2014','9-11-2015'],\n",
        "                            ['E0','Sunderland','23-7-2016','22-5-2017'],\n",
        "                            ['E0','West Ham','7-11-2017','16-5-2018'],\n",
        "                            ['E0','West Ham','29-12-2019','30-6-2021']\n",
        "                            ]\n",
        "             ],\n",
        "            ['Bruno Lage',[\n",
        "                           ['P1','Benfica','3-1-2019','29-6-2020']\n",
        "                           ]\n",
        "             ]\n",
        "]"
      ],
      "metadata": {
        "id": "aHOWvGaH93KH"
      },
      "execution_count": 7,
      "outputs": []
    },
    {
      "cell_type": "code",
      "source": [
        "results = coaches_carreers(coaches_02, league_matches)"
      ],
      "metadata": {
        "colab": {
          "base_uri": "https://localhost:8080/"
        },
        "id": "NKr5n1tc9sn1",
        "outputId": "dc161d62-fd43-4ab4-e8ba-e98300609eb8"
      },
      "execution_count": 8,
      "outputs": [
        {
          "output_type": "stream",
          "name": "stdout",
          "text": [
            "Patrick Vieira F1 Nice 11-6-2018 4-12-2020\n",
            "Patrick Vieira E0 Crystal Palace 4-7-2021 30-6-2021\n",
            "Frank Lampard E1 Derby County 31-5-2018 4-7-2019\n",
            "Frank Lampard E0 Chelsea 4-7-2019 25-1-2021\n",
            "Rafael Benitez E0 Liverpool 16-6-2004 3-6-2010\n",
            "Rafael Benitez I1 Inter 10-6-2010 23-12-2010\n",
            "Rafael Benitez E0 Chelsea 21-11-2012 27-5-2013\n",
            "Rafael Benitez I1 Napoli 27-5-2013 3-6-2015\n",
            "Rafael Benitez SP1 Real Madrid 3-6-2015 4-1-2016\n",
            "Rafael Benitez E0 Newcastle 11-3-2016 30-6-2019\n",
            "Marcelo Bielsa SP1 Ath Bilbao 7-7-2011 30-6-2013\n",
            "Marcelo Bielsa F1 Marseille 17-5-2014 8-8-2015\n",
            "Marcelo Bielsa F1 Lille 24-5-2017 15-12-2017\n",
            "Marcelo Bielsa E1 Leeds 15-6-2018 17-7-2020\n",
            "Marcelo Bielsa E0 Leeds 17-7-2020 30-6-2021\n",
            "Brendan Rodgers E0 Watford 24-11-2008 5-6-2009\n",
            "Brendan Rodgers E0 Reading 5-6-2009 16-12-2009\n",
            "Brendan Rodgers E1 Swansea 16-7-2010 30-6-2011\n",
            "Brendan Rodgers E0 Swansea 1-7-2011 30-5-2012\n",
            "Brendan Rodgers E0 Liverpool 1-6-2012 4-10-2015\n",
            "Brendan Rodgers SC0 Celtic 20-5-2016 15-2-2019\n",
            "Brendan Rodgers E0 Leicester 3-3-2019 30-6-2021\n",
            "Jurgen Klopp D2 Mainz 27-2-2001 30-6-2004\n",
            "Jurgen Klopp D1 Mainz 30-6-2004 30-6-2007\n",
            "Jurgen Klopp D2 Mainz 30-6-2007 30-6-2008\n",
            "Jurgen Klopp D1 Dortmund 30-6-2008 30-6-2015\n",
            "Jurgen Klopp E0 Liverpool 17-10-2015 30-6-2021\n",
            "Josep Guardiola SP1 Barcelona 1-7-2008 30-6-2012\n",
            "Josep Guardiola D1 Bayern Munich 26-6-2013 30-6-2016\n",
            "Josep Guardiola E0 Man City 1-7-2016 30-6-2021\n",
            "Ralf Rangnick D2 Hannover 23-5-2001 30-6-2002\n",
            "Ralf Rangnick D1 Hannover 1-7-2002 6-3-2004\n",
            "Ralf Rangnick D1 Schalke 04 28-7-2004 12-12-2005\n",
            "Ralf Rangnick D1 Hoffenheim 1-7-2006 2-1-2011\n",
            "Ralf Rangnick D1 Schalke 04 1-4-2011 22-9-2011\n",
            "Ralf Rangnick D2 RB Leipzig 25-7-2015 16-5-2016\n",
            "Ralf Rangnick D1 RB Leipzig 9-7-2018 30-6-2019\n",
            "Ole Gunnar Solksjaer E0 Cardiff 2-1-2014 30-6-2014\n",
            "Ole Gunnar Solksjaer E1 Cardiff 1-7-2014 18-9-2014\n",
            "Ole Gunnar Solksjaer E0 Man United 19-12-2018 30-6-2021\n",
            "Eddie Howe E3 Bournemouth 31-12-2008 30-6-2010\n",
            "Eddie Howe E2 Bournemouth 1-7-2010 15-1-2011\n",
            "Eddie Howe E1 Burnley 16-1-2011 15-10-2012\n",
            "Eddie Howe E2 Bournemouth 16-10-2012 30-6-2013\n",
            "Eddie Howe E1 Bournemouth 1-7-2013 30-6-2015\n",
            "Eddie Howe E0 Bournemouth 1-7-2015 30-6-2020\n",
            "Steve Bruce E2 Wigan 4-4-2001 29-5-2001\n",
            "Steve Bruce E1 Crystal Palace 31-5-2001 2-11-2001\n",
            "Steve Bruce E1 Birmingham 12-12-2001 30-6-2002\n",
            "Steve Bruce E0 Birmingham 1-7-2002 30-6-2006\n",
            "Steve Bruce E1 Birmingham 1-7-2006 23-11-2007\n",
            "Steve Bruce E0 Wigan 26-11-2007 3-6-2009\n",
            "Steve Bruce E0 Sunderland 3-6-2009 30-11-2011\n",
            "Steve Bruce E1 Hull 8-6-2012 30-6-2013\n",
            "Steve Bruce E0 Hull 1-7-2013 30-6-2015\n",
            "Steve Bruce E1 Hull 1-7-2015 22-7-2016\n",
            "Steve Bruce E1 Aston Villa 12-10-2016 3-10-2018\n",
            "Steve Bruce E1 Sheffield Weds 1-2-2019 15-7-2019\n",
            "Steve Bruce E0 Newcastle 17-7-2019 30-6-2021\n",
            "Nuno Espirito Santo P1 Rio Ave 15-5-2012 19-5-2014\n",
            "Nuno Espirito Santo SP1 Valencia 4-7-2014 29-11-2015\n",
            "Nuno Espirito Santo P1 Porto 1-6-2016 22-5-2016\n",
            "Nuno Espirito Santo E1 Wolves 31-5-2017 30-6-2018\n",
            "Nuno Espirito Santo E0 Wolves 1-7-2018 23-5-2021\n",
            "Dean Smith E2 Walsall 4-1-2011 29-11-2015\n",
            "Dean Smith E1 Brentford 30-11-2015 30-6-2018\n",
            "Dean Smith E1 Aston Villa 10-10-2018 30-6-2019\n",
            "Dean Smith E0 Aston Villa 1-6-2020 30-6-2021\n",
            "Daniel Farke E1 Norwich 25-5-2017 30-6-2019\n",
            "Daniel Farke E0 Norwich 1-6-2019 30-6-2021\n",
            "Ralph Hasenhuttl D2 Aalen 1-6-2012 30-6-2013\n",
            "Ralph Hasenhuttl D2 Ingolstadt 15-10-2013 30-6-2014\n",
            "Ralph Hasenhuttl D1 Ingolstadt 1-6-2015 14-5-2016\n",
            "Ralph Hasenhuttl D1 RB Leipzig 15-5-2016 15-5-2018\n",
            "Ralph Hasenhuttl E0 Southampton 5-12-2018 30-6-2021\n",
            "Antonio Conte I2 Arezzo 15-7-2006 31-10-2006\n",
            "Antonio Conte I2 Arezzo 13-3-2007 30-6-2007\n",
            "Antonio Conte I2 Bari 27-12-2007 30-6-2009\n",
            "Antonio Conte I1 Atalanta 21-9-2009 6-1-2010\n",
            "Antonio Conte I2 Siena 9-5-2010 30-6-2011\n",
            "Antonio Conte I1 Juventus 22-5-2011 15-7-2014\n",
            "Antonio Conte E0 Chelsea 4-4-2016 13-7-2018\n",
            "Antonio Conte I1 Inter 31-5-2019 26-5-2021\n",
            "Roy Hodson E0 Fulham 28-12-2007 30-6-2010\n",
            "Roy Hodson E0 Liverpool 1-7-2010 8-1-2011\n",
            "Roy Hodson E0 West Brom 11-2-2011 29-4-2012\n",
            "Roy Hodson E0 Crystal Palace 12-9-2017 30-6-2021\n",
            "Claudio Ranieri E0 Chelsea 18-9-2000 30-5-2004\n",
            "Claudio Ranieri SP1 Valencia 8-6-2004 25-2-2005\n",
            "Claudio Ranieri I1 Parma 12-2-2007 31-5-2007\n",
            "Claudio Ranieri I1 Juventus 4-7-2007 18-5-2009\n",
            "Claudio Ranieri I1 Roma 1-9-2009 20-2-2011\n",
            "Claudio Ranieri I1 Inter 22-9-2011 26-3-2012\n",
            "Claudio Ranieri F2 Monaco 30-5-2012 30-6-2013\n",
            "Claudio Ranieri F1 Monaco 30-6-2013 20-5-2014\n",
            "Claudio Ranieri E0 Leicester 13-7-2015 23-2-2017\n",
            "Claudio Ranieri E0 Fulham 14-11-2018 28-2-2019\n",
            "Claudio Ranieri I1 Roma 8-3-2019 26-5-2019\n",
            "Claudio Ranieri I1 Sampdoria 12-10-2019 30-6-2020\n",
            "David Moyes E1 Preston 1-1-2000 15-3-2002\n",
            "David Moyes E0 Everton 14-3-2002 30-6-2013\n",
            "David Moyes E0 Man United 1-7-2013 20-4-2014\n",
            "David Moyes SP1 Sociedad 10-11-2014 9-11-2015\n",
            "David Moyes E0 Sunderland 23-7-2016 22-5-2017\n",
            "David Moyes E0 West Ham 7-11-2017 16-5-2018\n",
            "David Moyes E0 West Ham 29-12-2019 30-6-2021\n",
            "Bruno Lage P1 Benfica 3-1-2019 29-6-2020\n"
          ]
        }
      ]
    }
  ]
}